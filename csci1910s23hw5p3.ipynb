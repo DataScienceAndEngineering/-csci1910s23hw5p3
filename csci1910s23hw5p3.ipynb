{
  "cells": [
    {
      "cell_type": "markdown",
      "source": [
        "# HW5-P3: Image Classification\n",
        "\n",
        "Download the data from this kaggle competition: \n",
        "\n",
        "https://www.kaggle.com/paultimothymooney/chest-xray-pneumonia\n",
        "\n",
        "Steps:\n",
        "\n",
        "1. Read the data into a pandas dataframe\n",
        "2. Normalize the data, this can mean greyscaling the data or normalization in some other capacity.\n",
        "3. Resize the data to a standard size. This should be X by X. So for instance 224 by 224, where X = 224.\n",
        "4. Train a thin model ontop of VGG16. Use the VGG16 with imagenet weights. Then set a few layers to trainable\n",
        "5. towards the end of the network. Report your precision, recall, f1 score, and print out a roc auc chart. This should\n",
        "6. include a diagram of your models training performance, which you can get in the following way:\n",
        "\n",
        "\n",
        "```python\n",
        "    model_history = model.fit(X, y)\n",
        "    print(model_history.history)\n",
        "```\n",
        "\n",
        "Then use `classification_report` from scikit-learn and roc auc curve from yellowbrick: https://www.scikit-yb.org/en/latest/api/classifier/rocauc.html\n",
        "\n",
        "Compare the results on train, test and validation. How well did your classifier do? Why do you think you got the results you did.\n",
        "\n",
        "\n",
        "7. Rerun the above model, this time using cross validation: https://machinelearningmastery.com/evaluate-performance-deep-learning-models-keras/\n",
        "\n",
        "Note: this means you will need to combine test, train and validation.\n",
        "What does this tell you about the model? Was there overfitting?\n",
        "\n",
        "\n",
        "8. Now rerun the model with VGG16 and imagenet weights, except instead of retrainging some of the later layers in the network, you'll be adding new layers on the end of the network. This tutorial can show you how to do that: https://www.pyimagesearch.com/2020/03/16/detecting-covid-19-in-x-ray-images-with-keras-tensorflow-and-deep-learning/\n",
        "\n",
        "Report your model history, your results on test and validation, like before. What changed? Did your model do better? Worse? You should note that model size is directly related to under or overfitting. Too few layers and nodes per layer and your model underfits, too many and it overfits. Tie this notion to your analysis.\n",
        "\n",
        "9. Now rerun cross validation with your new network. Does this confirm your belief of over or under fitting?\n",
        "\n",
        "10. Now rerun your analysis with ResNet50, start by making the last few layers trainable. Then set trainable to False and add new network layers. Report your analysis like in the previous steps. Did ResNet50 do better or worse than VGG16? Why do you think this is the case?"
      ],
      "metadata": {
        "nteract": {
          "transient": {
            "deleting": false
          }
        }
      }
    },
    {
      "cell_type": "markdown",
      "source": [],
      "metadata": {
        "nteract": {
          "transient": {
            "deleting": false
          }
        }
      }
    }
  ],
  "metadata": {
    "kernel_info": {
      "name": "python3"
    },
    "language_info": {
      "name": "python",
      "version": "3.10.0",
      "mimetype": "text/x-python",
      "codemirror_mode": {
        "name": "ipython",
        "version": 3
      },
      "pygments_lexer": "ipython3",
      "nbconvert_exporter": "python",
      "file_extension": ".py"
    },
    "kernelspec": {
      "argv": [
        "D:\\Users\\michael\\miniconda3\\envs\\nteract\\python.exe",
        "-m",
        "ipykernel_launcher",
        "-f",
        "{connection_file}"
      ],
      "display_name": "Python 3 (ipykernel)",
      "language": "python",
      "metadata": {
        "debugger": true
      },
      "name": "python3"
    },
    "nteract": {
      "version": "0.28.0"
    }
  },
  "nbformat": 4,
  "nbformat_minor": 0
}